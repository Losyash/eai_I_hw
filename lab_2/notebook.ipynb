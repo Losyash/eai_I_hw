{
 "cells": [
  {
   "cell_type": "markdown",
   "metadata": {},
   "source": [
    "### Импорт библиотек."
   ]
  },
  {
   "cell_type": "code",
   "execution_count": 99,
   "metadata": {},
   "outputs": [],
   "source": [
    "import numpy as np\n",
    "import pandas as pd\n",
    "\n",
    "from sklearn.model_selection import train_test_split\n",
    "from sklearn.feature_extraction.text import CountVectorizer"
   ]
  },
  {
   "cell_type": "code",
   "execution_count": 100,
   "metadata": {},
   "outputs": [],
   "source": [
    "np.random.seed(0)"
   ]
  },
  {
   "cell_type": "markdown",
   "metadata": {},
   "source": [
    "### Загрузка данных, извлечение комментариев и целевой переменной в отдельные датафреймы."
   ]
  },
  {
   "cell_type": "code",
   "execution_count": 101,
   "metadata": {},
   "outputs": [],
   "source": [
    "df = pd.read_csv(\"data/data.csv\")"
   ]
  },
  {
   "cell_type": "code",
   "execution_count": 102,
   "metadata": {},
   "outputs": [],
   "source": [
    "df_comments = df[\"comment_text\"]\n",
    "df_target = (df[\"target\"] > 0.7).astype(int)"
   ]
  },
  {
   "cell_type": "code",
   "execution_count": 103,
   "metadata": {},
   "outputs": [
    {
     "name": "stdout",
     "output_type": "stream",
     "text": [
      "<class 'pandas.core.series.Series'>\n",
      "RangeIndex: 90902 entries, 0 to 90901\n",
      "Series name: comment_text\n",
      "Non-Null Count  Dtype \n",
      "--------------  ----- \n",
      "90902 non-null  object\n",
      "dtypes: object(1)\n",
      "memory usage: 710.3+ KB\n"
     ]
    }
   ],
   "source": [
    "df_comments.info()"
   ]
  },
  {
   "cell_type": "code",
   "execution_count": 104,
   "metadata": {},
   "outputs": [
    {
     "name": "stdout",
     "output_type": "stream",
     "text": [
      "<class 'pandas.core.series.Series'>\n",
      "RangeIndex: 90902 entries, 0 to 90901\n",
      "Series name: target\n",
      "Non-Null Count  Dtype\n",
      "--------------  -----\n",
      "90902 non-null  int64\n",
      "dtypes: int64(1)\n",
      "memory usage: 710.3 KB\n"
     ]
    }
   ],
   "source": [
    "df_target.info()"
   ]
  },
  {
   "cell_type": "markdown",
   "metadata": {},
   "source": [
    "### Задание 1. Разделение данных на обучаемый и тестовый наборы данных."
   ]
  },
  {
   "cell_type": "code",
   "execution_count": 105,
   "metadata": {},
   "outputs": [],
   "source": [
    "X_train, X_test, Y_train, Y_test = train_test_split(df_comments, df_target, test_size=0.3, random_state=42)"
   ]
  },
  {
   "cell_type": "markdown",
   "metadata": {},
   "source": [
    "### Задание 2. Преобразование данных в числовой формат."
   ]
  },
  {
   "cell_type": "code",
   "execution_count": 106,
   "metadata": {},
   "outputs": [],
   "source": [
    "vectorizer = CountVectorizer()\n",
    "\n",
    "X_train_vect = vectorizer.fit_transform(X_train)\n",
    "X_test_vect = vectorizer.transform(X_test)"
   ]
  },
  {
   "cell_type": "markdown",
   "metadata": {},
   "source": [
    "### Задание 3. Импортирт из библиотеки ```sklearn``` логистической регрессии ```LogisticRegression```, обучение модели и вычисление метрики ```accuracy```."
   ]
  },
  {
   "cell_type": "code",
   "execution_count": null,
   "metadata": {},
   "outputs": [
    {
     "name": "stdout",
     "output_type": "stream",
     "text": [
      "Точность модели на тестовой выборке составляет 0.93\n"
     ]
    }
   ],
   "source": [
    "from sklearn.linear_model import LogisticRegression\n",
    "from sklearn.metrics import accuracy_score\n",
    "\n",
    "model = LogisticRegression(max_iter=2000, random_state=42)\n",
    "model.fit(X_train_vect, Y_train)\n",
    "\n",
    "Y_pred = model.predict(X_test_vect)\n",
    "\n",
    "accuracy = accuracy_score(Y_test, Y_pred)\n",
    "print(f'Точность модели на тестовой выборке составляет {accuracy:.4f}')"
   ]
  },
  {
   "cell_type": "markdown",
   "metadata": {},
   "source": [
    "### Задание 4. Определение функции, вычисляющей токсичность комментария."
   ]
  },
  {
   "cell_type": "code",
   "execution_count": 108,
   "metadata": {},
   "outputs": [
    {
     "name": "stdout",
     "output_type": "stream",
     "text": [
      "Вероятность токсичности комментария «You're an idiot» составляет 0.9996\n"
     ]
    }
   ],
   "source": [
    "def predict(model, vectorizer, comment):\n",
    "  comment_vect = vectorizer.transform([comment])\n",
    "  return model.predict_proba(comment_vect)[0, 1]\n",
    "\n",
    "comment = 'You\\'re an idiot'\n",
    "score = predict(model, vectorizer, comment)\n",
    "print(f'Вероятность токсичности комментария «{comment}» составляет {score:.4f}')"
   ]
  },
  {
   "cell_type": "markdown",
   "metadata": {},
   "source": [
    "### Задание 5. Предсказание токсичности комментариев «Apples are stupid» и «I love apples»."
   ]
  },
  {
   "cell_type": "code",
   "execution_count": 109,
   "metadata": {},
   "outputs": [
    {
     "name": "stdout",
     "output_type": "stream",
     "text": [
      "Вероятность токсичности комментария «Apples are stupid» составляет 0.9991\n",
      "Вероятность токсичности комментария «I love apples» составляет 0.0585\n"
     ]
    }
   ],
   "source": [
    "comments = [ 'Apples are stupid', 'I love apples' ]\n",
    "\n",
    "for comment in comments:\n",
    "  score = predict(model, vectorizer, comment)\n",
    "  print(f'Вероятность токсичности комментария «{comment}» составляет {score:.4f}')"
   ]
  },
  {
   "cell_type": "markdown",
   "metadata": {},
   "source": [
    "### Задание 6. Вывод десять наиболее токсичных слов и их коэффициентов."
   ]
  },
  {
   "cell_type": "code",
   "execution_count": 110,
   "metadata": {},
   "outputs": [
    {
     "name": "stdout",
     "output_type": "stream",
     "text": [
      "stupid: 9.2285\n",
      "idiot: 8.7215\n",
      "idiots: 8.4467\n",
      "stupidity: 7.5361\n",
      "idiotic: 6.8372\n",
      "crap: 6.5751\n",
      "dumb: 6.4499\n",
      "pathetic: 6.4187\n",
      "hypocrite: 6.3901\n",
      "moron: 6.3562\n"
     ]
    }
   ],
   "source": [
    "coefs = model.coef_[0]\n",
    "feature_names = vectorizer.get_feature_names_out()\n",
    "\n",
    "word_coefs = list(zip(feature_names, coefs))\n",
    "word_coefs_sorted = sorted(word_coefs, key=lambda x: x[1], reverse=True)\n",
    "\n",
    "for word, coef in word_coefs_sorted[:10]:\n",
    "  print(f\"{word}: {coef:.4f}\")"
   ]
  },
  {
   "cell_type": "markdown",
   "metadata": {},
   "source": [
    "### Задание 7. Анализ слов на токсичность."
   ]
  },
  {
   "cell_type": "markdown",
   "metadata": {},
   "source": [
    "На наш взгляд, все эти слова могут быть, вполне, исключены из списка токсичных, поскольку во-первых, без конкретного контекста невозможно однозначно сказать является ли данное слово токсичным или нет. Во-вторых, какие-то из этих слов могут являться частью устойчивых выражений, смысл которых не является токсичным.\n",
    "\n",
    "Приведем несколько примеров. Так, слова ```stupid```, ```stupidity```, ```idiot```, ```idiots```, ```idiotic``` - это не толлько ```тупой```, ```тупость```, ```идиот``` или ```идиотизм```, а еще и ```глупость```, ```глупый```, ```бестолковый```, ```бестолковость```, ```нелепость``` и т. д. А слово ```crap```, которое часто используют как ```дерьмо``` - это также ```чепуха```, ```чушь```.\n",
    "\n",
    "Таким образом если посмотреть переводы всех этих слов, то они помимо негативной оценки имеют общеупотребительное нейтральное значение. И еще раз повторим, что даже негативные токсичные значения нельзя назвать таковыми, не знаю к кому они относятся и в какой ситуации."
   ]
  },
  {
   "cell_type": "markdown",
   "metadata": {},
   "source": [
    "### Задание 8. Исследование модели на предвзятость."
   ]
  },
  {
   "cell_type": "code",
   "execution_count": 111,
   "metadata": {},
   "outputs": [
    {
     "name": "stdout",
     "output_type": "stream",
     "text": [
      "Вероятность токсичности комментария «I have a christian friend» составляет 0.1879\n",
      "Вероятность токсичности комментария «I have a muslim friend» составляет 0.5125\n",
      "Вероятность токсичности комментария «I have a white friend» составляет 0.4074\n",
      "Вероятность токсичности комментария «I have a black friend» составляет 0.5924\n"
     ]
    }
   ],
   "source": [
    "comments = [ 'I have a christian friend', 'I have a muslim friend', 'I have a white friend', 'I have a black friend' ]\n",
    "\n",
    "for comment in comments:\n",
    "  score = predict(model, vectorizer, comment)\n",
    "  print(f'Вероятность токсичности комментария «{comment}» составляет {score:.4f}')"
   ]
  },
  {
   "cell_type": "markdown",
   "metadata": {},
   "source": [
    "### Задание 9. Определение типа предвзятости модели."
   ]
  },
  {
   "cell_type": "markdown",
   "metadata": {},
   "source": [
    "Рассматриваемый случай, когда комментарии, относящиеся к исламу, с большей вероятностью будут токсичными, чем комментарии, относящиеся к другим религиям, относится к ```демографическо1 предвзятости```.\n",
    "\n",
    "Однако, по моему мнению, в случае, когда соблюдены все условия для непредвзятости модели, но при этом она, тем не менее, выдает предвзятый результат, говорит о том, что общество по отношению к данной группе людей настроено отрицательно или, как минимум, настороженно. Как правило это негативное отношение свзяанно с объективными причинами \"поведения\" данной группы людей. То есть, нельзя игнорировать предвзятость модели в угоду толерантности и решать проблему ее игнорируя или подгоняя под нужный результат.\n"
   ]
  },
  {
   "cell_type": "markdown",
   "metadata": {},
   "source": [
    "### Задание 10. Улучшение этичности алгоритма."
   ]
  },
  {
   "cell_type": "markdown",
   "metadata": {},
   "source": [
    "- Количественное выравнинание токсичных и нетоксичных комментариев для разных групп людей.\n",
    "- Использование более сложных моделей, которые учитывают контекст высказываний.\n",
    "- Переодическое тестирование модели на предвзятость в отношении каких-либо групп людей."
   ]
  }
 ],
 "metadata": {
  "kernelspec": {
   "display_name": "eai_i_lab2",
   "language": "python",
   "name": "python3"
  },
  "language_info": {
   "codemirror_mode": {
    "name": "ipython",
    "version": 3
   },
   "file_extension": ".py",
   "mimetype": "text/x-python",
   "name": "python",
   "nbconvert_exporter": "python",
   "pygments_lexer": "ipython3",
   "version": "3.12.7"
  }
 },
 "nbformat": 4,
 "nbformat_minor": 2
}
